{
  "nbformat": 4,
  "nbformat_minor": 0,
  "metadata": {
    "kernelspec": {
      "display_name": "Python 3",
      "language": "python",
      "name": "python3"
    },
    "language_info": {
      "codemirror_mode": {
        "name": "ipython",
        "version": 3
      },
      "file_extension": ".py",
      "mimetype": "text/x-python",
      "name": "python",
      "nbconvert_exporter": "python",
      "pygments_lexer": "ipython3",
      "version": "3.7.3"
    },
    "colab": {
      "name": "Spark-RDD Assignment.ipynb",
      "provenance": [],
      "collapsed_sections": []
    }
  },
  "cells": [
    {
      "cell_type": "code",
      "metadata": {
        "id": "ABY4LDlalBtl"
      },
      "source": [
        "import findspark\n",
        "findspark.init()"
      ],
      "execution_count": null,
      "outputs": []
    },
    {
      "cell_type": "code",
      "metadata": {
        "id": "gn9rsz94lBtv"
      },
      "source": [
        "#1.\tCreate RDDs in three different ways."
      ],
      "execution_count": null,
      "outputs": []
    },
    {
      "cell_type": "code",
      "metadata": {
        "id": "N5EgE8V_lBtw"
      },
      "source": [
        "from pyspark.sql import SparkSession\n",
        "spark = SparkSession.builder.appName(\"application\").getOrCreate()\n",
        "type(spark)"
      ],
      "execution_count": null,
      "outputs": []
    },
    {
      "cell_type": "code",
      "metadata": {
        "id": "2BCzm22vlBtx"
      },
      "source": [
        "#1st method using parallelize\n",
        "text=\"There is only one way to happiness and that is to cease worrying about things which are beyond the power of our will.\".split(\" \")\n",
        "words = spark.sparkContext.parallelize(text,2)\n",
        "type(words)\n",
        "words.collect()"
      ],
      "execution_count": null,
      "outputs": []
    },
    {
      "cell_type": "code",
      "metadata": {
        "id": "oqtDLlzclBty"
      },
      "source": [
        "#2nd method from data source\n",
        "rdd_2=spark.sparkContext.textFile(\"textfile.txt\")\n",
        "rdd_2.collect()\n",
        "type(rdd_2)"
      ],
      "execution_count": null,
      "outputs": []
    },
    {
      "cell_type": "code",
      "metadata": {
        "id": "ak71rTIdlBty"
      },
      "source": [
        "#3rd method pipelined RDD\n",
        "rdd_3=words.filter(lambda word:word.startswith('s'))\n",
        "rdd_3.collect()\n",
        "type(rdd_3)"
      ],
      "execution_count": null,
      "outputs": []
    },
    {
      "cell_type": "code",
      "metadata": {
        "id": "yyWMNB1BlBtz"
      },
      "source": [
        "#2.Read a text file and count the number of words in the file using RDD operations."
      ],
      "execution_count": null,
      "outputs": []
    },
    {
      "cell_type": "code",
      "metadata": {
        "id": "_3hLIaStlBtz"
      },
      "source": [
        "word_count=rdd_2.flatMap(lambda s:s.split(\" \"))\n",
        "word_count.count()"
      ],
      "execution_count": null,
      "outputs": []
    },
    {
      "cell_type": "code",
      "metadata": {
        "id": "sp3BBcPVlBt0"
      },
      "source": [
        "#3.Write a program to find the word frequency in a given file."
      ],
      "execution_count": null,
      "outputs": []
    },
    {
      "cell_type": "code",
      "metadata": {
        "id": "n1G5orBKlBt0"
      },
      "source": [
        "info=spark.sparkContext.textFile(\"textfile.txt\")\n",
        "info=info.flatMap(lambda x:x.split())\n",
        "content_map=info.map(lambda c:(c,1))\n",
        "content_map.reduceByKey(lambda a,b:a+b).collect()"
      ],
      "execution_count": null,
      "outputs": []
    },
    {
      "cell_type": "code",
      "metadata": {
        "id": "EvmEbpqqlBt1"
      },
      "source": [
        "#4.Write a program to convert all words in a file to uppercase."
      ],
      "execution_count": null,
      "outputs": []
    },
    {
      "cell_type": "code",
      "metadata": {
        "id": "wkMcFOlnlBt1"
      },
      "source": [
        "rdd_2.map(lambda c:c.upper()).collect()"
      ],
      "execution_count": null,
      "outputs": []
    },
    {
      "cell_type": "code",
      "metadata": {
        "id": "Zw0QHC_5lBt1"
      },
      "source": [
        "#5.Write a program to convert all words in a file to lowercase."
      ],
      "execution_count": null,
      "outputs": []
    },
    {
      "cell_type": "code",
      "metadata": {
        "id": "2goetE8AlBt2"
      },
      "source": [
        "rdd_2.map(lambda c:c.lower()).collect()"
      ],
      "execution_count": null,
      "outputs": []
    },
    {
      "cell_type": "code",
      "metadata": {
        "id": "g6WVxr_TlBt2"
      },
      "source": [
        "#6.Write a program to capitalize first letter of each words in file (use string capitalize() method)."
      ],
      "execution_count": null,
      "outputs": []
    },
    {
      "cell_type": "code",
      "metadata": {
        "id": "v9ghBBO8lBt2"
      },
      "source": [
        "capital=rdd_2.flatMap(lambda a:a.split(\" \")).map(lambda c:c.capitalize()).collect()\n",
        "\" \".join(capital)"
      ],
      "execution_count": null,
      "outputs": []
    },
    {
      "cell_type": "code",
      "metadata": {
        "id": "5fB9-R89lBt3"
      },
      "source": [
        "#7.Find the longest length of word from given set of words."
      ],
      "execution_count": null,
      "outputs": []
    },
    {
      "cell_type": "code",
      "metadata": {
        "id": "LyveqGtFlBt3"
      },
      "source": [
        "longest_word=rdd_2.flatMap(lambda x:x.split(\" \"))\n",
        "longest_word.map(lambda nu:(len(nu),nu)).max()[1]"
      ],
      "execution_count": null,
      "outputs": []
    },
    {
      "cell_type": "code",
      "metadata": {
        "id": "VCk8VVOalBt3"
      },
      "source": [
        "#8.Map the Registration numbers to corresponding branch. 6000 series BDA, 9000 series HAD, 1000 series MS, 2000 series VLSI, 3000 series ES, 4000 series MSc, 5000 series CC."
      ],
      "execution_count": null,
      "outputs": []
    },
    {
      "cell_type": "code",
      "metadata": {
        "id": "igWK8tuplBt4"
      },
      "source": [
        "registration_number=[6027,2005,2035,6011,9007,9056,3088,3045,4088,4065,5077,5066,1001,1002]\n",
        "context=spark.sparkContext.parallelize(registration_number,2)\n",
        "classify=context.map(lambda reg:('VLSI',reg) if reg>2000 and reg<3000 \n",
        "        else ('ML',reg) if reg>1000 and reg<2000\n",
        "        else ('ES',reg) if reg>3000 and reg<4000\n",
        "        else ('MSc',reg) if reg>4000 and reg<5000\n",
        "        else ('CC',reg) if reg>5000 and reg<6000\n",
        "        else ('BDA',reg) if reg>6000 and reg<7000\n",
        "        else ('HDA',reg))\n",
        "classify.collect()"
      ],
      "execution_count": null,
      "outputs": []
    },
    {
      "cell_type": "code",
      "metadata": {
        "id": "gAr7_PaFlBt4"
      },
      "source": [
        "#9.Given registration number, generate a key-value pair of Registration Number and Corresponding Branch."
      ],
      "execution_count": null,
      "outputs": []
    },
    {
      "cell_type": "code",
      "metadata": {
        "id": "XnlaEljZlBt4"
      },
      "source": [
        "reg_no=[6027]\n",
        "info=spark.sparkContext.parallelize(reg_no,2)\n",
        "ans=info.map(lambda reg:('VLSI',reg) if reg>2000 and reg<3000 \n",
        "        else ('ML',reg) if reg>1000 and reg<2000\n",
        "        else ('ES',reg) if reg>3000 and reg<4000\n",
        "        else ('MSc',reg) if reg>4000 and reg<5000\n",
        "        else ('CC',reg) if reg>5000 and reg<6000\n",
        "        else ('BDA',reg) if reg>6000 and reg<7000\n",
        "        else ('HDA',reg))\n",
        "ans.collect()"
      ],
      "execution_count": null,
      "outputs": []
    },
    {
      "cell_type": "code",
      "metadata": {
        "id": "EP2CpIpxlBt5"
      },
      "source": [
        "'''10.\tA text file contains data about citizens of country. \n",
        "Fields(information in file) are Name, dob, Phone, email and state name. \n",
        "Another file contains mapping of state names to state code like Karnataka is codes as KA, \n",
        "TamilNadu as TN, Kerala KL etc. Compress the file will by changing full state name to state code.'''"
      ],
      "execution_count": null,
      "outputs": []
    },
    {
      "cell_type": "code",
      "metadata": {
        "id": "G4GbUnGjlBt5"
      },
      "source": [
        "details=spark.sparkContext.textFile(\"user_details.txt\")\n",
        "code=spark.sparkContext.textFile(\"state_codes_of_different_states.txt\")\n",
        "details_rdd=details.map(lambda x:x.split(\",\")).collect()\n",
        "code_rdd=code.map(lambda y:y.split(\",\")).collect()\n",
        "for i in range(len(details_rdd)):\n",
        "    for j in range(len(code_rdd)):  \n",
        "        if details_rdd[i][4]==code_rdd[j][0]:\n",
        "            details_rdd[i][4]=code_rdd[j][1]\n",
        "details_rdd              "
      ],
      "execution_count": null,
      "outputs": []
    },
    {
      "cell_type": "code",
      "metadata": {
        "id": "DvHSzEAqlBt6"
      },
      "source": [
        "stRDD = spark.sparkContext.textFile('state_codes_of_different_states.txt')\n",
        "stateKey = stRDD.map(lambda word: (word.split(',')[0], word.split(',')[1]))"
      ],
      "execution_count": null,
      "outputs": []
    },
    {
      "cell_type": "code",
      "metadata": {
        "id": "ROmMZcjylBt6"
      },
      "source": [
        "#creating dictionary\n",
        "code_dict = {}\n",
        "for val in stateKey.collect():\n",
        "    code_dict[val[0]] = val[1]\n",
        "    \n",
        "code_dict"
      ],
      "execution_count": null,
      "outputs": []
    },
    {
      "cell_type": "code",
      "metadata": {
        "id": "M7_9xqV8lBt6"
      },
      "source": [
        "mapData = spark.sparkContext.broadcast(code_dict)\n",
        "\n",
        "cityRdd = spark.sparkContext.textFile('user_details.txt')\n",
        "print(cityRdd.collect())\n",
        "def abc(state,codes):\n",
        "    splitData = state.split(',')  \n",
        "    print(splitData)\n",
        "    splitData[4] = codes.value.get(splitData[4])\n",
        "    newData = ' '\n",
        "    newData = newData.join(splitData)\n",
        "    \n",
        "    return newData\n",
        "    \n",
        "mapCitizen = cityRdd.map(lambda data: abc(data,mapData))\n",
        "mapCitizen.collect()\n"
      ],
      "execution_count": null,
      "outputs": []
    },
    {
      "cell_type": "code",
      "metadata": {
        "id": "2cKwrHlzlBt7"
      },
      "source": [
        "'''11.Text file contain numbers. Numbers are separated by one white space. \n",
        "There is no order to store the numbers. One line may contain one or more numbers.\n",
        "Find the maximum, minimum, sum and mean of numbers.'''"
      ],
      "execution_count": null,
      "outputs": []
    },
    {
      "cell_type": "code",
      "metadata": {
        "id": "HJhtRQQelBt7"
      },
      "source": [
        "file1=spark.sparkContext.textFile(\"no..txt\")\n",
        "file1_rdd=file1.flatMap(lambda z:z.split(\" \")).map(lambda c:int(c))\n",
        "file1_rdd.max()"
      ],
      "execution_count": null,
      "outputs": []
    },
    {
      "cell_type": "code",
      "metadata": {
        "id": "Tu1WhiT9lBt7"
      },
      "source": [
        "file1_rdd.min()"
      ],
      "execution_count": null,
      "outputs": []
    },
    {
      "cell_type": "code",
      "metadata": {
        "id": "qHiVudx9lBt8"
      },
      "source": [
        "file1_rdd.sum()"
      ],
      "execution_count": null,
      "outputs": []
    },
    {
      "cell_type": "code",
      "metadata": {
        "id": "_0KccegwlBt8"
      },
      "source": [
        "file1_rdd.mean()"
      ],
      "execution_count": null,
      "outputs": []
    },
    {
      "cell_type": "code",
      "metadata": {
        "id": "F_NeXE8glBt8"
      },
      "source": [
        ""
      ],
      "execution_count": null,
      "outputs": []
    }
  ]
}